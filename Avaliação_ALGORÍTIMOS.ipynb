{
  "nbformat": 4,
  "nbformat_minor": 0,
  "metadata": {
    "colab": {
      "provenance": [],
      "authorship_tag": "ABX9TyOEZ0wKqUWvDQ8dVqzxCqAk",
      "include_colab_link": true
    },
    "kernelspec": {
      "name": "python3",
      "display_name": "Python 3"
    },
    "language_info": {
      "name": "python"
    }
  },
  "cells": [
    {
      "cell_type": "markdown",
      "metadata": {
        "id": "view-in-github",
        "colab_type": "text"
      },
      "source": [
        "<a href=\"https://colab.research.google.com/github/cla0r/exe/blob/main/Avalia%C3%A7%C3%A3o_ALGOR%C3%8DTIMOS.ipynb\" target=\"_parent\"><img src=\"https://colab.research.google.com/assets/colab-badge.svg\" alt=\"Open In Colab\"/></a>"
      ]
    },
    {
      "cell_type": "markdown",
      "source": [
        "QUESTÃO 01\n",
        "\n",
        "Faça um Programa Python que converta metros para centímetros."
      ],
      "metadata": {
        "id": "c980cmYcg1QP"
      }
    },
    {
      "cell_type": "code",
      "execution_count": 9,
      "metadata": {
        "colab": {
          "base_uri": "https://localhost:8080/"
        },
        "id": "3i2dhQbkWbH_",
        "outputId": "312bf5bf-e5f1-41ae-9093-881f18664d09"
      },
      "outputs": [
        {
          "output_type": "stream",
          "name": "stdout",
          "text": [
            "Metros = 5\n",
            "cm =  500.0\n"
          ]
        }
      ],
      "source": [
        "metros = float(input(\"Metros = \"))\n",
        "centimetros = metros * 100\n",
        "print(\"cm = \",centimetros)"
      ]
    },
    {
      "cell_type": "markdown",
      "source": [
        "QUESTÃO 02\n",
        "\n",
        "Faça um Programa Python que pergunte quanto você ganha por hora e o número de\n",
        "horas trabalhadas no mês. Calcule e mostre o total do seu salário no referido mês."
      ],
      "metadata": {
        "id": "qIlXM9eEg7M4"
      }
    },
    {
      "cell_type": "code",
      "source": [
        "ganhoPhora = float(input(\"Ganho por hora = R$ \"))\n",
        "horasTrabalhadas = float(input(\"Horas trabalhadas ao mês = \"))\n",
        "salarioMensal = ganhoPhora * horasTrabalhadas\n",
        "print(\"Salário mensal = R$\", salarioMensal)"
      ],
      "metadata": {
        "colab": {
          "base_uri": "https://localhost:8080/"
        },
        "id": "HGtjwYklX3Tu",
        "outputId": "e4a1a8e5-9f37-4fa3-9a68-482c7ddb9080"
      },
      "execution_count": 11,
      "outputs": [
        {
          "output_type": "stream",
          "name": "stdout",
          "text": [
            "Ganho por hora = R$ 25\n",
            "Horas trabalhadas ao mês = 220\n",
            "Salário mensal = R$ 5500.0\n"
          ]
        }
      ]
    },
    {
      "cell_type": "markdown",
      "source": [
        "QUESTÃO 03\n",
        "\n",
        "Faça um Programa Python que peça a temperatura em graus Farenheit, transforme e\n",
        "mostre a temperatura em graus Celsius. C = (5 * (F-32) / 9)."
      ],
      "metadata": {
        "id": "iSb7GzRphAgF"
      }
    },
    {
      "cell_type": "code",
      "source": [
        "tempFarenheit = float(input(\"F = \"))\n",
        "tempCelcius = 5 * (tempFarenheit - 32) / 9\n",
        "print(\"Temperatura em Celcius= \", tempCelcius)"
      ],
      "metadata": {
        "colab": {
          "base_uri": "https://localhost:8080/"
        },
        "id": "uwlh-ACecQRb",
        "outputId": "680a195b-12c4-47aa-e76a-f7c49146a722"
      },
      "execution_count": null,
      "outputs": [
        {
          "output_type": "stream",
          "name": "stdout",
          "text": [
            "F = 98\n",
            "Temperatura em Celcius=  36.666666666666664\n"
          ]
        }
      ]
    },
    {
      "cell_type": "markdown",
      "source": [
        "QUESTÃO 04\n",
        "\n",
        "Uma loja está vendendo seus produtos em 5 (cinco) prestações sem juros. Faça um\n",
        "programa Python que receba um valor de uma compra e mostre o valor das\n",
        "prestações."
      ],
      "metadata": {
        "id": "gmlunAtPhGNN"
      }
    },
    {
      "cell_type": "code",
      "source": [
        "valorCompra = float(input(\"Valor da Compra = R$ \"))\n",
        "valorPrest = valorCompra / 5\n",
        "print(\"Valor da Prestação = R$\", valorPrest)"
      ],
      "metadata": {
        "colab": {
          "base_uri": "https://localhost:8080/"
        },
        "id": "Awj2Uw_hfAhC",
        "outputId": "8089ef98-2859-4333-afd5-1cc81ba8952d"
      },
      "execution_count": 12,
      "outputs": [
        {
          "output_type": "stream",
          "name": "stdout",
          "text": [
            "Valor da Compra = R$ 1350.47\n",
            "Valor da Prestação = R$ 270.094\n"
          ]
        }
      ]
    },
    {
      "cell_type": "markdown",
      "source": [
        "QUESTÃO 05\n",
        "\n",
        "Faça um programa Python que receba o preço de custo de um produto e mostre o\n",
        "valor de venda. Sabe-se que o preço de custo receberá um acréscimo de acordo com\n",
        "um percentual informado pelo usuário."
      ],
      "metadata": {
        "id": "4jeL4zYHhKMw"
      }
    },
    {
      "cell_type": "code",
      "source": [
        "preco = float(input(\"Preço de custo = R$ \"))\n",
        "porcentagem = preco * 13/100\n",
        "valorVenda = preco + porcentagem\n",
        "print(\"Valor da Venda = R$\", valorVenda)"
      ],
      "metadata": {
        "colab": {
          "base_uri": "https://localhost:8080/"
        },
        "id": "Hu2-s-IIgv84",
        "outputId": "064695cd-9547-448f-d988-acd6524975eb"
      },
      "execution_count": 13,
      "outputs": [
        {
          "output_type": "stream",
          "name": "stdout",
          "text": [
            "Preço de custo = R$ 400\n",
            "Valor da Venda = R$ 452.0\n"
          ]
        }
      ]
    },
    {
      "cell_type": "markdown",
      "source": [
        "QUESTÃO 06\n",
        "\n",
        "Faça um programa Python que receba o preço de custo de um produto e mostre o\n",
        "valor de venda. Sabe-se que o preço de custo receberá um acréscimo de acordo com\n",
        "um percentual informado pelo usuário."
      ],
      "metadata": {
        "id": "v03JD2ZHlIx4"
      }
    },
    {
      "cell_type": "code",
      "source": [
        "distanciaP = float(input(\"km =  \"))\n",
        "combustivelGasto = float(input(\"l = \"))\n",
        "consumoM = distanciaP / combustivelGasto\n",
        "print(\"Consumo Mensal= \", consumoM)\n"
      ],
      "metadata": {
        "colab": {
          "base_uri": "https://localhost:8080/"
        },
        "id": "x5_dwVb2lNYO",
        "outputId": "2de15885-ee3d-42fa-a2df-3ebdeaf810a5"
      },
      "execution_count": null,
      "outputs": [
        {
          "output_type": "stream",
          "name": "stdout",
          "text": [
            "km =  30\n",
            "l = 2\n",
            "Consumo Mensal=  15.0\n"
          ]
        }
      ]
    },
    {
      "cell_type": "markdown",
      "source": [
        "QUESTÃO 07\n",
        "\n",
        "Faça um programa Python que leia três números inteiros e positivos (A, B e C) e calcule a seguinte expressão:\n",
        "\n",
        "D=R+S/2  onde, R=(A+B)**2    S=(B+C)**2\n"
      ],
      "metadata": {
        "id": "8IeIeCv5UTE1"
      }
    },
    {
      "cell_type": "code",
      "source": [
        "a = int(input(\"A= \"))\n",
        "b = int(input(\"B= \"))\n",
        "c = int(input(\"C= \"))\n",
        "R = (a + b) **2\n",
        "S = (b + c) **2\n",
        "D = (R + S) /2\n",
        "print(\"R= \",R)\n",
        "print(\"S= \",S)\n",
        "print(\"D= \",D)"
      ],
      "metadata": {
        "colab": {
          "base_uri": "https://localhost:8080/"
        },
        "id": "cP_JFxtUR1rI",
        "outputId": "1a1c25d9-6e7b-4755-b187-f7623a6eb3b3"
      },
      "execution_count": null,
      "outputs": [
        {
          "output_type": "stream",
          "name": "stdout",
          "text": [
            "A= 2\n",
            "B= 4\n",
            "C= 8\n",
            "R=  36\n",
            "S=  144\n",
            "D=  90.0\n"
          ]
        }
      ]
    },
    {
      "cell_type": "markdown",
      "source": [
        "QUESTÃO 08\n",
        "\n",
        "Escrever um programa Python que leia o nome de um vendedor, o seu salário fixo e o total de vendas efetuadas por ele no mês (em dinheiro). Sabendo que este vendedor ganha 15% de comissão sobre suas vendas efetuadas, informar o seu nome, o salário fixo e salário no final do mês."
      ],
      "metadata": {
        "id": "gMZ6NWGFo-bA"
      }
    },
    {
      "cell_type": "code",
      "source": [
        "nome = str(input(\"Nome do Vendedor: \"))\n",
        "salarioFixo = float(input(\"Salário Fixo em R$: \"))\n",
        "totalVendas = int(input(\"Total de Vendas: \"))\n",
        "porcentagem = salarioFixo * 0.15\n",
        "salarioFinal = salarioFixo + porcentagem\n",
        "print(\"Salário Final = R$ \", salarioFinal)"
      ],
      "metadata": {
        "colab": {
          "base_uri": "https://localhost:8080/"
        },
        "id": "D8ZSDom8pCRe",
        "outputId": "c2ee1268-811d-4b9f-d1ed-40d63955ab41"
      },
      "execution_count": null,
      "outputs": [
        {
          "output_type": "stream",
          "name": "stdout",
          "text": [
            "Nome do Vendedor: Astrogildo\n",
            "Salário Fixo em R$: 1212\n",
            "Total de Vendas: 20\n",
            "Salário Final = R$  1393.8\n"
          ]
        }
      ]
    },
    {
      "cell_type": "markdown",
      "source": [
        "QUESTÃO 09\n",
        "\n",
        "Faça um Programa Python que peça 2 números inteiros e um número real. Calcule e mostre: \n",
        "A) o produto do dobro do primeiro com metade do segundo . \n",
        "B) soma do triplo do primeiro com o terceiro.     \n",
        "C) o terceiro elevado ao cubo. \n"
      ],
      "metadata": {
        "id": "VivDw6xfxuHS"
      }
    },
    {
      "cell_type": "code",
      "source": [
        "num1 = int(input(\"N1: \"))\n",
        "num2 = int(input(\"N2: \"))\n",
        "num3 = float(input(\"N3: \"))\n",
        "produtoA = (num1 * 2) * (num2 / 2)\n",
        "somaB = (num1 * 3) + num3\n",
        "aoCuboC = num3 ** 3\n",
        "print(\"A = \", produtoA)\n",
        "print(\"B = \", somaB)\n",
        "print(\"C = \", aoCuboC)"
      ],
      "metadata": {
        "colab": {
          "base_uri": "https://localhost:8080/"
        },
        "id": "5Jp56I8qxxlC",
        "outputId": "ad2a2de5-2d32-4610-8402-2d34552cbf13"
      },
      "execution_count": null,
      "outputs": [
        {
          "output_type": "stream",
          "name": "stdout",
          "text": [
            "N1: 4\n",
            "N2: 5\n",
            "N3: 7\n",
            "A =  20.0\n",
            "B =  19.0\n",
            "C =  343.0\n"
          ]
        }
      ]
    },
    {
      "cell_type": "markdown",
      "source": [
        "QUESTÃO 10\n",
        "\n",
        "Tendo como dados de entrada a altura de uma pessoa, construa um programa Python que calcule seu peso ideal, usando a seguinte fórmula: (72.7*altura) – 58.\n"
      ],
      "metadata": {
        "id": "Bt4TWQFN0xvM"
      }
    },
    {
      "cell_type": "code",
      "source": [
        "altura = float(input(\"h = \"))\n",
        "pesoIdeal = (72.7*altura) - 58\n",
        "print(\"Peso ideal = \", pesoIdeal)"
      ],
      "metadata": {
        "colab": {
          "base_uri": "https://localhost:8080/"
        },
        "id": "gbtgQ_z61B0C",
        "outputId": "547e4b01-c651-47b5-e5f6-2b40fcad1dc1"
      },
      "execution_count": null,
      "outputs": [
        {
          "output_type": "stream",
          "name": "stdout",
          "text": [
            "h = 1.60\n",
            "Peso ideal =  58.32000000000001\n"
          ]
        }
      ]
    },
    {
      "cell_type": "markdown",
      "source": [
        "QUESTÃO 11\n",
        "\n",
        "Faça um programa Python que peça o tamanho de um arquivo para download (em MB) e a velocidade de um link de Internet (em MBps), calcule e informe o tempo aproximado de download do arquivo usando este link (em minutos)."
      ],
      "metadata": {
        "id": "LkI3aEjL2_2s"
      }
    },
    {
      "cell_type": "code",
      "source": [
        "tamArquivo = float(input(\"Tamanho do arquivo em MB:\"))\n",
        "velArquivo = float(input(\"Velocidade do arquivo em MBps:\"))\n",
        "segPmin = velArquivo / 60\n",
        "tempoDownload = tamArquivo / segPmin\n",
        "print(\"Tempo em min =\", tempoDownload)\n"
      ],
      "metadata": {
        "colab": {
          "base_uri": "https://localhost:8080/"
        },
        "id": "GqvSxphh3Dku",
        "outputId": "d608ef2b-9913-4a4c-9fc3-94622b04af76"
      },
      "execution_count": null,
      "outputs": [
        {
          "output_type": "stream",
          "name": "stdout",
          "text": [
            "Tamanho do arquivo em MB:200\n",
            "Velocidade do arquivo em MBps:100\n",
            "Tempo em min = 120.0\n"
          ]
        }
      ]
    },
    {
      "cell_type": "markdown",
      "source": [
        "QUESTÃO 12\n",
        "\n",
        "Faça um Programa que pergunte quanto você ganha por hora e o número de horas trabalhadas no mês. Calcule e mostre o total do seu salário no referido mês, sabendo-se que são descontados 11% para o Imposto de Renda, 8% para o INSS e 5% para o sindicato, faça um programa Python que nos dê: \n",
        "a) salário bruto. \n",
        "b) quanto pagou ao INSS. \n",
        "c) quanto pagou ao sindicato. \n",
        "d) o salário líquido. \n",
        "e) calcule os descontos e o salário líquido, conforme a tabela abaixo:\n",
        "Salário Bruto : R$\n",
        "IR (11%) : R$\n",
        "INSS (8%) : R$\n",
        "Sindicato ( 5%) : R$\n",
        "Salário Liquido : R$\n",
        "Obs.: Salário Bruto - Descontos = Salário Líquido.\n"
      ],
      "metadata": {
        "id": "IsBKfptHkFlR"
      }
    },
    {
      "cell_type": "code",
      "source": [
        "ganhoPhora = float(input(\"Ganho por hora = R$ \"))\n",
        "horasTrabalhadas = float(input(\"Horas trabalhadas ao mês = \"))\n",
        "salarioBruto = ganhoPhora * horasTrabalhadas\n",
        "print(salarioBruto)\n",
        "ir = (salarioBruto* 0.11)\n",
        "inss = (salarioBruto * 0.08)\n",
        "sind = (salarioBruto  * 0.05)\n",
        "salarioLiquido = salarioBruto - (ir + inss + sind)\n",
        "descontos = ir + inss + sind\n",
        "print(\"Salario Liquido = \", salarioLiquido)\n",
        "print(\"inss = \", inss)\n",
        "print(\"sind = \", sind)\n",
        "print(\"descontos =\", descontos)"
      ],
      "metadata": {
        "colab": {
          "base_uri": "https://localhost:8080/"
        },
        "id": "bbm6V-3HkIrh",
        "outputId": "3c990bb2-ee1a-4766-a9d5-9d30c64ece9b"
      },
      "execution_count": null,
      "outputs": [
        {
          "output_type": "stream",
          "name": "stdout",
          "text": [
            "Ganho por hora = R$ 25\n",
            "Horas trabalhadas ao mês = 220\n",
            "5500.0\n",
            "Salario Liquido =  4180.0\n",
            "inss =  440.0\n",
            "sind =  275.0\n",
            "descontos = 1320.0\n"
          ]
        }
      ]
    },
    {
      "cell_type": "markdown",
      "source": [
        "QUESTÃO 13\n",
        "\n",
        "Escrever um programa em Python que lê o público total de um jogo de futebol e fornecer a renda do jogo, sabendo-se que havia 4 tipos de ingressos assim distribuídos: popular 10% a R$10,00, geral 50% a R$50,00, arquibancada 30% a R$100,00 e cadeiras 10% a R$ 200,00."
      ],
      "metadata": {
        "id": "1eMpziLjRTOW"
      }
    },
    {
      "cell_type": "code",
      "source": [
        "publico = int(input(\"Público total do jogo: \"))\n",
        "popular = (publico * 0.10) * 10 # (10/100=0.10)\n",
        "geral = (publico * 0.50) * 50\n",
        "arquibancada = (publico * 0.30) * 100\n",
        "cadeiras = (publico * 0.10) * 200\n",
        "renda = popular + geral + arquibancada + cadeiras\n",
        "\n",
        "print('A renda desse jogo de futebol foi de: R$ ', renda)"
      ],
      "metadata": {
        "colab": {
          "base_uri": "https://localhost:8080/"
        },
        "id": "t6omcs55RTzr",
        "outputId": "983c3484-37c5-41db-e766-da72dd4c3fa6"
      },
      "execution_count": null,
      "outputs": [
        {
          "output_type": "stream",
          "name": "stdout",
          "text": [
            "Público total do jogo: 500\n",
            "A renda desse jogo de futebol foi de: R$  38000.0\n"
          ]
        }
      ]
    },
    {
      "cell_type": "markdown",
      "source": [
        "QUESTÃO 14\n",
        "\n",
        "Na fazenda de João são criadas aves. Para alimentá-las ele compra sacas de ração cujo peso é fornecido em quilos. No total ele tem dois grupos de aves, para os quais fornece a quantidade de ração em gramas. A quantidade diária de ração fornecida para cada grupo de aves é sempre a mesma. Faça um programa em Python que receba o peso do saco de ração e a quantidade de ração fornecida para cada grupo de aves, calcule e mostre quanto restará de ração após uma semana."
      ],
      "metadata": {
        "id": "NrYKrwAKk6Fj"
      }
    },
    {
      "cell_type": "code",
      "source": [
        "PsacoG1 = float(input(\"Peso do saco de ração Grupo 1: \"))\n",
        "qtRacaoG1 = float(input(\"Quantidade de ração Grupo 1: \"))\n",
        "PsacoG2 = float(input(\"Peso do saco de ração Grupo 2: \"))\n",
        "qtRacaoG2 = float(input(\"Quantidade de ração Grupo 2: \"))\n",
        "Transf1 = qtRacaoG1 / 1000\n",
        "Transf2 = qtRacaoG2 / 1000\n",
        "Vtotal1 = PsacoG1 - Transf1\n",
        "Vtotal2 = PsacoG2 - Transf2\n",
        "print(\"Restará após uma semana: \", Vtotal1 + Vtotal2, \"kg\")"
      ],
      "metadata": {
        "id": "69LnB9DAk5Yi",
        "colab": {
          "base_uri": "https://localhost:8080/"
        },
        "outputId": "28cbeaa4-4ee1-453a-b63a-3c381ea48968"
      },
      "execution_count": null,
      "outputs": [
        {
          "output_type": "stream",
          "name": "stdout",
          "text": [
            "Peso do saco de ração Grupo 1: 30\n",
            "Quantidade de ração Grupo 1: 25000\n",
            "Peso do saco de ração Grupo 2: 45\n",
            "Quantidade de ração Grupo 2: 40000\n",
            "Restará após uma semana:  10.0 kg\n"
          ]
        }
      ]
    },
    {
      "cell_type": "markdown",
      "source": [
        "QUESTÃO 15\n",
        "\n",
        "Faça um programa Python para a leitura de duas notas parciais de um aluno. O programa deve calcular a média alcançada por aluno e apresentar: \n",
        "A mensagem \"Aprovado\", se a média alcançada for maior ou igual a sete; \n",
        "A mensagem \"Reprovado\", se a média for menor do que sete; \n",
        "A mensagem \"Aprovado com Distinção\", se a média for igual a dez. \n"
      ],
      "metadata": {
        "id": "hmVm077bioLe"
      }
    },
    {
      "cell_type": "code",
      "source": [
        "nota1 = float(input(\"Nota 1: \"))\n",
        "nota2 = float(input(\"Nota 2: \"))\n",
        "media = (nota1 + nota2) / 2\n",
        "if media >= 7:\n",
        "    print(\"Aprovado\")\n",
        "elif media < 7:\n",
        "    print(\"Reprovado\")\n",
        "elif media == 10:\n",
        "    print(\"Aprovado com Distinção\")"
      ],
      "metadata": {
        "colab": {
          "base_uri": "https://localhost:8080/"
        },
        "id": "7KiTwfXhingS",
        "outputId": "337dbc34-6ee5-4124-96c6-0ae26b106b94"
      },
      "execution_count": null,
      "outputs": [
        {
          "output_type": "stream",
          "name": "stdout",
          "text": [
            "Nota 1: 7.6\n",
            "Nota 2: 9.9\n",
            "Aprovado\n"
          ]
        }
      ]
    },
    {
      "cell_type": "markdown",
      "source": [
        "QUESTÃO 16\n",
        "\n",
        "Faça um Programa Python que leia três números e mostre o maior deles. "
      ],
      "metadata": {
        "id": "3RY4Xa8TtfV4"
      }
    },
    {
      "cell_type": "code",
      "source": [
        "n1 = int(input(\"N 1: \"))\n",
        "n2 = int(input(\"N 2: \"))\n",
        "n3 = int(input(\"N 3: \" ))\n",
        "if n1 >= n2 >= n3:\n",
        "  print(\"O maior número é: \", n1)\n",
        "elif n2 >= n1 >= n3:\n",
        "  print(\"O maior número é: \", n2)\n",
        "elif n3 >= n1 >= n2:\n",
        "  print(\"O maior número é: \", n3)"
      ],
      "metadata": {
        "id": "loM5mznVth9t",
        "colab": {
          "base_uri": "https://localhost:8080/"
        },
        "outputId": "f16570c4-7bdc-497f-f74f-d08d358fa822"
      },
      "execution_count": null,
      "outputs": [
        {
          "output_type": "stream",
          "name": "stdout",
          "text": [
            "N 1: 25\n",
            "N 2: 10\n",
            "N 3: 49\n",
            "O maior número é:  49\n"
          ]
        }
      ]
    },
    {
      "cell_type": "markdown",
      "source": [
        "QUESTÃO 17\n",
        "\n",
        "Faça um programa Python que pergunte o preço de três produtos e informe qual produto você deve comprar, sabendo que a decisão é sempre pelo mais barato. "
      ],
      "metadata": {
        "id": "QOn6ogtytZqg"
      }
    },
    {
      "cell_type": "code",
      "source": [
        "v1 = float(input('Digite o valor do protudo 1: R$ '))\n",
        "v2 = float(input('Digite o valor do protudo 2: R$ '))\n",
        "v3 = float(input('Digite o valor do produto 3: R$ '))\n",
        "\n",
        "if v1 <= v2 <= v3:\n",
        "    print(\"O produto mais barato é o de valor:R$ \", v1)\n",
        "else:\n",
        "     if v2 <= v3 <= v1:\n",
        "        print(\"O produto mais barato é o de valor:R$ \", v2)\n",
        "     else:\n",
        "       if v3 <= v2 <= v1:\n",
        "            print(\"O produto mais barato é o de valor: R$\", v3)"
      ],
      "metadata": {
        "colab": {
          "base_uri": "https://localhost:8080/"
        },
        "id": "kd6rQqBltaOW",
        "outputId": "0b5425aa-3c8e-4c34-f926-1c91d95f6046"
      },
      "execution_count": null,
      "outputs": [
        {
          "output_type": "stream",
          "name": "stdout",
          "text": [
            "Digite o valor do protudo 1: R$ 500\n",
            "Digite o valor do protudo 2: R$ 600\n",
            "Digite o valor do produto 3: R$ 700\n",
            "O produto mais barato é o de valor:R$  500.0\n"
          ]
        }
      ]
    },
    {
      "cell_type": "markdown",
      "source": [
        "QUESTÃO 18\n",
        "\n",
        "Uma organização resolveu dar um aumento de salário aos seus colaboradores e lhe contrataram para desenvolver o programa que calculará os reajustes. Faça um programa Python que recebe o salário de um colaborador e o reajuste segundo o seguinte critério, baseado no salário atual: \n",
        "salários até R$ 280,00 (incluindo) : aumento de 20% \n",
        "salários entre R$ 280,00 e R$ 700,00 : aumento de 15% \n",
        "salários entre R$ 700,00 e R$ 1500,00 : aumento de 10% \n",
        "\tsalários de R$ 1500,00 em diante : aumento de 5% \n",
        "Após o aumento ser realizado, informe na tela: \n",
        "a)o salário antes do reajuste; \n",
        "b)o percentual de aumento aplicado; \n",
        "c)o valor do aumento; \n",
        "d)o novo salário, após o aumento. \n"
      ],
      "metadata": {
        "id": "QV2nKSqbmBQa"
      }
    },
    {
      "cell_type": "code",
      "source": [
        "valors = float(input('Qual o valor do seu salário atual: R$ '))\n",
        "\n",
        "if valors < 280:\n",
        "  if valors * 1.20:\n",
        "    print(\"Salário antes: R$\", valors)\n",
        "    print(\"Aumento de: 20%.\")\n",
        "    print(\"Seu aumento é de: R$\", (valors * 1.20) - valors)\n",
        "    print(\"Seu novo salário é: R$ \", valors * 1.20)\n",
        "    \n",
        "if valors >= 280 and valors < 700:\n",
        "  (valors * 1.15)\n",
        "  print(\"Salário antes: R$\", valors)\n",
        "  print(\"Aumento de: 15%.\")\n",
        "  print(\"Seu aumento é de: R$\", (valors * 1.15) - valors)\n",
        "  print(\"Seu novo salário é: R$ \", valors * 1.15)\n",
        "      \n",
        "if valors >= 700 and valors < 1500:\n",
        "  valors * 1.10\n",
        "  print(\"Salário antes: R$\", valors)  \n",
        "  print(\"Aumento de: 10%.\") \n",
        "  print(\"Seu aumento é de: R$\", (valors * 1.10) - valors)\n",
        "  print(\"Seu novo salário é: R$ \", valors * 1.10)\n",
        "\n",
        "else:\n",
        "  valors >= 1500\n",
        "  valors * 1.05\n",
        "  print(\"Salário antes: R$\", valors)\n",
        "  print(\"Aumento de: 5%.\")\n",
        "  print(\"Seu aumento é de: R$\", (valors * 1.05) - valors)\n",
        "  print(\"Seu novo salário é: R$ \", valors * 1.05)"
      ],
      "metadata": {
        "colab": {
          "base_uri": "https://localhost:8080/"
        },
        "id": "Cin2sOrRmPbh",
        "outputId": "3ef6f5b5-3913-4093-93b4-39aa5671dbd9"
      },
      "execution_count": null,
      "outputs": [
        {
          "output_type": "stream",
          "name": "stdout",
          "text": [
            "Qual o valor do seu salário atual: R$ 1000\n",
            "Salário antes: R$ 1000.0\n",
            "Aumento de: 10%.\n",
            "Seu aumento é de: R$ 100.0\n",
            "Seu novo salário é: R$  1100.0\n"
          ]
        }
      ]
    },
    {
      "cell_type": "markdown",
      "source": [
        "QUESTÃO 19\n",
        "\n",
        "Faça um programa para o cálculo de uma folha de pagamento, sabendo que os descontos são do Imposto de Renda, que depende do salário bruto (conforme tabela abaixo) e 3% para o Sindicato e que o FGTS corresponde a 11% do Salário Bruto, mas não é descontado (é a empresa que deposita). O Salário Líquido corresponde ao Salário Bruto menos os descontos. O programa Python deverá pedir ao usuário o valor da sua hora e a quantidade de horas trabalhadas no mês. \n",
        "Desconto do IR: \n",
        "Salário Bruto até 900 (inclusive) - isento \n",
        "Salário Bruto até 1500 (inclusive) - desconto de 5% \n",
        "Salário Bruto até 2500 (inclusive) - desconto de 10% \n",
        "Salário Bruto acima de 2500 - desconto de 20% \n",
        "Imprima na tela as informações a seguir. No exemplo o valor da hora é 5 e a quantidade de hora é 220. \n",
        "Salário Bruto: (5 * 220)        : R$ 1100,00\n",
        "(-) IR (5%)                     : R$   55,00  \n",
        "(-) INSS ( 10%)                 : R$  110,00\n",
        "FGTS (11%)                      : R$  121,00\n",
        "Total de descontos              : R$  165,00\n",
        "Salário Liquido                 : R$  935,00\n"
      ],
      "metadata": {
        "id": "RqTstiygp8V6"
      }
    },
    {
      "cell_type": "code",
      "source": [
        "horasTrabalhadas = float(input(\"Horas trabalhadas: \"))\n",
        "valorPhora = float(input(\"Valor da hora: \"))\n",
        "salarioBruto = horasTrabalhadas * valorPhora\n",
        "fgts = salarioBruto * 0.11\n",
        "inss = salarioBruto * 0.10\n",
        "print(\"Salario Bruto: (\", valorPhora, \"*\", horasTrabalhadas, \"): \", salarioBruto)\n",
        "if salarioBruto <= 900:\n",
        "  print(\"(-) IR : Isento\")\n",
        "elif salarioBruto > 900 and salarioBruto <= 1500:\n",
        "  ir = (salarioBruto * 0.05)\n",
        "  print(\"(-) IR (5%) : R$\" , ir)\n",
        "elif salarioBruto > 1500 and salarioBruto <= 2500:\n",
        "  ir = (salarioBruto * 0.10)\n",
        "  print(\"(-) IR (10%) : R$\" , ir)\n",
        "else: \n",
        "  ir = (salarioBruto * 0.20)\n",
        "  print(\"(-) IR (20%) : R$\" , ir)\n",
        "print(\"(-) INSS (10%) : R$\", inss)\n",
        "print(\"FGTS (11%) : R$\", fgts)\n",
        "print(\"Total de descontos : R$\", ir + inss)\n",
        "print(\"Salário Liquido : R$\", salarioBruto - (ir + inss))"
      ],
      "metadata": {
        "colab": {
          "base_uri": "https://localhost:8080/"
        },
        "id": "sBhk85R-p8sg",
        "outputId": "4bbdcf9c-d3fa-4ee5-d329-cf95423f5014"
      },
      "execution_count": 14,
      "outputs": [
        {
          "output_type": "stream",
          "name": "stdout",
          "text": [
            "Horas trabalhadas: 200\n",
            "Valor da hora: 15\n",
            "Salario Bruto: ( 15.0 * 200.0 ):  3000.0\n",
            "(-) IR (20%) : R$ 600.0\n",
            "(-) INSS (10%) : R$ 300.0\n",
            "FGTS (11%) : R$ 330.0\n",
            "Total de descontos : R$ 900.0\n",
            "Salário Liquido : R$ 2100.0\n"
          ]
        }
      ]
    },
    {
      "cell_type": "markdown",
      "source": [
        "QUESTÃO 20\n",
        "\n",
        "Faça um programa que lê as duas notas parciais obtidas por um aluno numa disciplina ao longo de um semestre, e calcule a sua média. A atribuição de conceitos obedece à tabela abaixo: \n",
        "  Média de Aproveitamento  Conceito\n",
        "  Entre 9.0 e 10.0       A;\n",
        "  Entre 7.5 e 9.0         B;\n",
        "  Entre 6.0 e 7.5         C;\n",
        "  Entre 4.0 e 6.0         D;\n",
        "  Entre 4.0 e zero       E.\n",
        "O programa Python deve mostrar na tela as notas, a média, o conceito correspondente e a mensagem “APROVADO” se o conceito for A, B ou C ou “REPROVADO” se o conceito for D ou E. \n"
      ],
      "metadata": {
        "id": "R0CAZsmqXp9s"
      }
    },
    {
      "cell_type": "code",
      "source": [
        "nota1 = float(input(\"Nota 1: \"))\n",
        "nota2 = float(input(\"Nota 2: \"))\n",
        "media = (nota1 + nota2) / 2\n",
        "if  9 < media <= 10 :\n",
        "  print(\"A\")\n",
        "  print(\"Média: \", media)\n",
        "  print(\"APROVADO\")\n",
        "elif 7.5 < media <= 9 :\n",
        "  print(\"B\")\n",
        "  print(\"Média: \", media)\n",
        "  print(\"APROVADO\")\n",
        "elif 6 < media <= 7.5:\n",
        "  print(\"C\")\n",
        "  print(\"Média: \", media)\n",
        "  print(\"APROVADO\")\n",
        "elif 4 < media <= 6:\n",
        "  print(\"D\")\n",
        "  print(\"Média: \", media)\n",
        "  print(\"REPROVADO\")\n",
        "elif 4 < media <= 0:\n",
        "  print(\"E\")\n",
        "  print(\"Média: \", media)\n",
        "  print(\"REPROVADO\")"
      ],
      "metadata": {
        "colab": {
          "base_uri": "https://localhost:8080/"
        },
        "id": "fNJiCoYMXqnS",
        "outputId": "9a814e8b-8f27-4fdc-c8c0-6acd6b39e4f8"
      },
      "execution_count": null,
      "outputs": [
        {
          "output_type": "stream",
          "name": "stdout",
          "text": [
            "Nota 1: 4\n",
            "Nota 2: 5\n",
            "D\n",
            "Média:  4.5\n",
            "REPROVADO\n"
          ]
        }
      ]
    },
    {
      "cell_type": "markdown",
      "source": [
        "QUESTÃO 21\n",
        "\n",
        "Faça um Programa Python que peça os 3 lados de um triângulo. O programa deverá informar se os valores podem ser um triângulo. Indique, caso os lados formem um triângulo, se o mesmo é: equilátero, isósceles ou escaleno. \n",
        "Dicas: Três lados formam um triângulo quando a soma de quaisquer dois lados for maior que o terceiro; Triângulo Equilátero: três lados iguais; Triângulo isósceles: quaisquer dois lados iguais; Triângulo Escaleno: três lados diferentes; \n"
      ],
      "metadata": {
        "id": "dvqNnU-hiCfn"
      }
    },
    {
      "cell_type": "code",
      "source": [
        "lado1 = float(input(\"Lado 1: \"))\n",
        "lado2 = float(input(\"Lado 2: \"))\n",
        "lado3 = float(input(\"Lado 3: \"))\n",
        "\n",
        "if (lado1 + lado2) <= lado3 or (lado1 + lado3) <= lado2 or (lado2 + lado3) <= lado1:\n",
        "  print(\"Não é um triângulo\")\n",
        "elif lado1 == lado2 == lado3:\n",
        "  print('Triângulo equilatero.')\n",
        "elif lado1 == lado2 != lado3 or lado2 == lado3 != lado1 or lado1 == lado2 != lado3:\n",
        "  print('Triângulo isósceles.')\n",
        "elif (lado1 + lado2) > lado3 != (lado1 + lado3) > lado2 != (lado2 + lado3) > lado1:\n",
        "  print('Triãngulo escaleno')"
      ],
      "metadata": {
        "colab": {
          "base_uri": "https://localhost:8080/"
        },
        "id": "PDxTcdcmiC9G",
        "outputId": "d217a5a3-507c-44f8-b13a-905b5c6e7509"
      },
      "execution_count": 35,
      "outputs": [
        {
          "output_type": "stream",
          "name": "stdout",
          "text": [
            "Lado 1: 2\n",
            "Lado 2: 4\n",
            "Lado 3: 3\n",
            "Triãngulo escaleno\n"
          ]
        }
      ]
    },
    {
      "cell_type": "markdown",
      "source": [
        "QUESTÃO 22\n",
        "\n",
        "Faça um Programa Python que peça um número correspondente a um determinado ano e em seguida informe se este ano é ou não bissexto. "
      ],
      "metadata": {
        "id": "7v_RUdW3n_UE"
      }
    },
    {
      "cell_type": "code",
      "source": [
        "ano = int(input('Ano: '))\n",
        "if (ano%4==0 and ano%100!=0) or (ano%400==0):\n",
        "    print('Bissexto')\n",
        "else:\n",
        "    print('Não é bissexto')"
      ],
      "metadata": {
        "id": "4IHpOr_IoC49",
        "colab": {
          "base_uri": "https://localhost:8080/"
        },
        "outputId": "0c8d3595-5105-451a-b22b-cd104f34f8f5"
      },
      "execution_count": 8,
      "outputs": [
        {
          "output_type": "stream",
          "name": "stdout",
          "text": [
            "Ano: 2049\n",
            "Não é bissexto\n"
          ]
        }
      ]
    },
    {
      "cell_type": "markdown",
      "source": [
        "QUESTÃO 23\n",
        "\n",
        "Faça um Programa Python para um caixa eletrônico. O programa deverá perguntar ao usuário a valor do saque e depois informar quantas notas de cada valor serão fornecidas. As notas disponíveis serão as de 1, 5, 10, 50 e 100 reais. O valor mínimo é de 10 reais e o máximo de 600 reais. O programa não deve se preocupar com a quantidade de notas existentes na máquina. \n",
        "Exemplo 1: Para sacar a quantia de 256 reais, o programa fornece duas notas de 100, uma nota de 50, uma nota de 5 e uma nota de 1; \n",
        "Exemplo 2: Para sacar a quantia de 399 reais, o programa fornece três notas de 100, uma nota de 50, quatro notas de 10, uma nota de 5 e quatro notas de 1. \n"
      ],
      "metadata": {
        "id": "TwzVL_FTp2Ve"
      }
    },
    {
      "cell_type": "code",
      "source": [
        "numero = int(input('Valor para sacar [10-600]: '))\n",
        "cem = int(numero / 100)\n",
        "numero = numero - (cem * 100)\n",
        "cinquenta = int(numero/50)\n",
        "numero = numero - (cinquenta * 50)\n",
        "dez = int(numero/10)\n",
        "numero = numero - (dez * 10)\n",
        "cinco = int(numero/5)\n",
        "numero = numero - (cinco * 5)\n",
        "um = int(numero/1)\n",
        "numero = numero - (um * 1)\n",
        "    \n",
        "print('Notas R$100,00 = ',cem)\n",
        "print('Notas R$ 50,00 = ',cinquenta)\n",
        "print('Notas R$ 10,00 = ',dez)\n",
        "print('Notas R$  5,00 = ',cinco)\n",
        "print('Notas R$  1,00 = ',um)\n"
      ],
      "metadata": {
        "id": "NRxZqWiNp3DF",
        "colab": {
          "base_uri": "https://localhost:8080/"
        },
        "outputId": "caba9339-8d2f-450c-920e-2a2144592d52"
      },
      "execution_count": 2,
      "outputs": [
        {
          "output_type": "stream",
          "name": "stdout",
          "text": [
            "Valor para sacar [10-600]: 549\n",
            "Notas R$100,00 =  5\n",
            "Notas R$ 50,00 =  0\n",
            "Notas R$ 10,00 =  4\n",
            "Notas R$  5,00 =  1\n",
            "Notas R$  1,00 =  4\n"
          ]
        }
      ]
    },
    {
      "cell_type": "markdown",
      "source": [
        "QUESTÃO 24\n",
        "\n",
        "Uma fruteira está vendendo frutas com a seguinte tabela de preços: \n",
        "Até 5 Kg           Acima de 5 Kg \n",
        "Morango         R$ 2,50 por Kg          R$ 2,20 por Kg\n",
        "Maçã            R$ 1,80 por Kg          R$ 1,50 por Kg\n",
        "Se o cliente comprar mais de 8 Kg em frutas ou o valor total da compra ultrapassar R$ 25,00, receberá ainda um desconto de 10% sobre este total. Escreva um programa Python para ler a quantidade (em Kg) de morangos e a quantidade (em Kg) de maças adquiridas e escreva o valor a ser pago pelo cliente.\n"
      ],
      "metadata": {
        "id": "Ad15ddQ9sUsO"
      }
    },
    {
      "cell_type": "code",
      "source": [
        "qMorango = float(input(\"Quantidade morango em Kg: \"))\n",
        "qMaca = float(input(\"Quantidade maçã em Kg: \"))\n",
        "valorKg = qMorango + qMaca\n",
        "precoM1 = qMorango * 2.50\n",
        "precoM2 = qMorango * 2.20\n",
        "precoMa1 = qMaca * 1.80\n",
        "precoMa2 = qMaca * 1.50\n",
        "valorTotal = (precoM1 or precoM2) + (precoMa1 or precoMa2)\n",
        "\n",
        "print(\"Valor total: R$ \", valorTotal)\n",
        "if qMorango <= 5:\n",
        "  precoM1 = qMorango * 2.50\n",
        "  print(\"Preço morango: R$ \", precoM1)\n",
        "else:\n",
        "  qMorango > 5\n",
        "  precoM2 = qMorango * 2.20\n",
        "  print(\"Preço morango: R$ \", precoM2)\n",
        "if qMaca <= 5:\n",
        "  precoMa1 = qMaca * 1.80\n",
        "  print(\"Preço maça: R$ \", precoMa1)\n",
        "else:\n",
        "  qMaca > 5\n",
        "  precoMa2 = qMaca * 1.50\n",
        "  print(\"Preço maça: R$ \", precoMa2)\n",
        "if valorKg > 8 or valorTotal > 25:\n",
        "  print(\"Valor com desconto: R$ \", valorTotal - (valorTotal * 0.10))"
      ],
      "metadata": {
        "colab": {
          "base_uri": "https://localhost:8080/"
        },
        "id": "h5m_nnyOsVKn",
        "outputId": "04173d81-28df-4164-aa63-4a9013ba1d98"
      },
      "execution_count": 40,
      "outputs": [
        {
          "output_type": "stream",
          "name": "stdout",
          "text": [
            "Quantidade morango em Kg: 5\n",
            "Quantidade maçã em Kg: 5\n",
            "Valor total: R$  21.5\n",
            "Preço morango: R$  12.5\n",
            "Preço maça: R$  9.0\n",
            "Valor com desconto: R$  19.35\n"
          ]
        }
      ]
    },
    {
      "cell_type": "markdown",
      "source": [
        "QUESTÃO 25\n",
        "\n",
        "Elabore um programa Python que dada a idade de um nadador classifica-o em uma das seguintes categorias:  infantil A = 5 - 7 anos; infantil B = 8-10 anos; juvenil A = 11-13 anos; juvenil B = 14-17 anos; adulto = maiores de 18 anos."
      ],
      "metadata": {
        "id": "90O4sRDHf6vh"
      }
    },
    {
      "cell_type": "code",
      "source": [
        "idadeN = int(input(\"Idade do nadador: \"))\n",
        "if 5 <= idadeN <= 7:\n",
        "  print(\"Infantil A\")\n",
        "elif 8 <= idadeN <= 10:\n",
        "  print(\"Infantil B\")\n",
        "elif 11 <= idadeN <= 13:\n",
        "  print(\"Juvenil A\")\n",
        "elif 14 <= idadeN <= 17:\n",
        "  print(\"Juvenil B\")\n",
        "elif idadeN >= 18:\n",
        "  print(\"Adulto\")"
      ],
      "metadata": {
        "colab": {
          "base_uri": "https://localhost:8080/"
        },
        "id": "dlXmO7aPf7Yl",
        "outputId": "b9347061-250d-4260-a800-00890b393700"
      },
      "execution_count": null,
      "outputs": [
        {
          "output_type": "stream",
          "name": "stdout",
          "text": [
            "Idade do nadador: 24\n",
            "Adulto\n"
          ]
        }
      ]
    },
    {
      "cell_type": "markdown",
      "source": [
        "QUESTÃO 26\n",
        "\n",
        "Tendo como dados de entrada a altura e o sexo de uma pessoa, construa um programa Python que calcule seu peso ideal, utilizando as seguintes fórmulas: para homens: (72.7*h) – 58 e para mulheres: (62.1*h) - 44.7 (h = altura)."
      ],
      "metadata": {
        "id": "u40deaIoi7Wc"
      }
    },
    {
      "cell_type": "code",
      "source": [
        "h = float(input('Qual a sua altura? '))\n",
        "s = int(input('Digite 1 para feminino ou 2 para masculino: '))\n",
        "if s > 3:\n",
        "  print('Digite apenas 1 ou 2 na segunda pergunta. ')\n",
        "idealm = (62.1 * h) - 44.7\n",
        "idealh = (72.7 * h) - 58\n",
        "\n",
        "if s == 1:\n",
        "  idealm\n",
        "  print('Seu peso ideal é: ', idealm)\n",
        "else:\n",
        "  s == 2\n",
        "  idealh\n",
        "  print('Seu peso ideal é: ', idealh)"
      ],
      "metadata": {
        "colab": {
          "base_uri": "https://localhost:8080/"
        },
        "id": "1Z7q0ZzKi837",
        "outputId": "93181a86-fb3b-43e1-ece9-b539e7673dc9"
      },
      "execution_count": 37,
      "outputs": [
        {
          "output_type": "stream",
          "name": "stdout",
          "text": [
            "Qual a sua altura? 1.60\n",
            "Digite 1 para feminino ou 2 para masculino: 2\n",
            "Seu peso ideal é:  58.32000000000001\n"
          ]
        }
      ]
    },
    {
      "cell_type": "markdown",
      "source": [
        "QUESTÃO 27\n",
        "\n",
        "O IPVA é calculado de acordo com o tipo de veículo, cuja alíquota é definida por cada Estado sobre o valor venal do carro de acordo com a Tabela Fipe (Fundação Instituto de Pesquisas Econômicas), variando entre 1% e 4%. Escreva um programa em Python para calcular o valor do IPVA de um veículo com base nas informações a seguir:\n",
        "\n",
        "Alíquota\n",
        "Tipo do Veículo\n",
        "4,0%\n",
        "Automóveis\n",
        "3,0%\n",
        "Caminhonetes de carga e furgão.\n",
        "2,0%\n",
        "Automóveis para transporte público (ex: táxi, escolar) \n",
        "2,0%\n",
        "Motocicletas.\n",
        "1,0%\n",
        "Veículos de locadoras.\n",
        "1,0%\n",
        "Ônibus, micro-ônibus, caminhão, caminhão trator.\n",
        "\n",
        "\n",
        "OBS: o valor venal do carro deverá ser fornecido pelo usuário.\n"
      ],
      "metadata": {
        "id": "eSjuYYgJxI3U"
      }
    },
    {
      "cell_type": "code",
      "source": [
        "valor = float(input('Indique o valor do seu carro: R$ '))\n",
        "tipo = float(input('Digite 1 se seu transporte é automóvel, 2 para caminhonetes, 3 para transporte público, 4 para motocicleta, 5 para veículos de locadora, 6 para caminhão: '))\n",
        "if 0 <= tipo > 5:\n",
        "  print('Digite apenas números de 1 a 5 na segunda pergunta. ')\n",
        "valor1 = valor - (valor * 0.96)  # (1 - 0.04)\n",
        "valor2 = valor - (valor * 0.97) # (1 - 0.03)\n",
        "valor3 = valor - (valor * 0.98) # (1 - 0.02)\n",
        "valor4 = valor - (valor * 0.98) \n",
        "valor5 = valor - (valor * 0.99) # (1 - 0.01)\n",
        "valor6 = valor - (valor * 0.99)\n",
        "\n",
        "if tipo == 1:\n",
        "  valor1\n",
        "  print('Seu IPVA é: R$ ', valor1)\n",
        "if tipo == 2:\n",
        "  valor2\n",
        "  print('Seu IPVA é: R$ ', valor2)\n",
        "if tipo == 3:\n",
        "   valor3\n",
        "   print('Seu IPVA é: R$ ', valor3)\n",
        "if tipo == 4:\n",
        "   valor4\n",
        "   print('Seu IPVA é: R$ ', valor4)\n",
        "if tipo == 5:\n",
        "   valor5\n",
        "   print('Seu IPVA é: R$ ', valor5)\n",
        "if tipo == 6:\n",
        "   valor6\n",
        "   print('Seu IPVA é: R$ ', valor6)"
      ],
      "metadata": {
        "colab": {
          "base_uri": "https://localhost:8080/"
        },
        "id": "E_Lp8fLDxJga",
        "outputId": "a77ecc91-9967-4af0-fb35-a13199fe348d"
      },
      "execution_count": 6,
      "outputs": [
        {
          "output_type": "stream",
          "name": "stdout",
          "text": [
            "Indique o valor do seu carro: R$ 90000\n",
            "Digite 1 se seu transporte é automóvel, 2 para caminhonetes, 3 para transporte público, 4 para motocicleta, 5 para veículos de locadora, 6 para caminhão: 1\n",
            "Seu IPVA é: R$  3600.0\n"
          ]
        }
      ]
    },
    {
      "cell_type": "markdown",
      "source": [
        "QUESTÃO 28\n",
        "\n",
        "Escreva um programa em Python para ler a capacidade de um elevador (em toneladas) e o peso total das pessoas em seu interior (em quilogramas). Informar se o elevador está liberado para subir ou se excedeu a carga máxima."
      ],
      "metadata": {
        "id": "pwPqlpljx6UB"
      }
    },
    {
      "cell_type": "code",
      "source": [
        "pessoa1 = float(input('Digite seu peso: kg '))\n",
        "pessoa2 = float(input('Digite seu peso: kg '))\n",
        "pessoa3 = float(input('Digite seu peso: kg '))\n",
        "pessoa4 = float(input('Digite seu peso: kg '))\n",
        "pessoa5 = float(input('Digite seu peso: kg '))\n",
        "pessoa6 = float(input('Digite seu peso: kg '))\n",
        "pesototal = pessoa1 + pessoa2 + pessoa3 + pessoa4 + pessoa5 + pessoa6\n",
        "\n",
        "pesotonelada = pesototal / 1000\n",
        "\n",
        "if pesotonelada > 0.5:\n",
        "  print('Excedeu a carga máxima. Valor mínimo: 0,5 T. Valor da carga: ', pesotonelada, 'T')\n",
        "else:\n",
        "    pesotonelada < 0.5\n",
        "    print('Elevador liberado. Valor mínimo: 0,5 T. Valor da carga: ', pesotonelada, 'T')"
      ],
      "metadata": {
        "colab": {
          "base_uri": "https://localhost:8080/"
        },
        "id": "3exCUZ_zx65L",
        "outputId": "f2bbb692-12f5-4743-8612-5f00ff960aad"
      },
      "execution_count": 7,
      "outputs": [
        {
          "output_type": "stream",
          "name": "stdout",
          "text": [
            "Digite seu peso: kg 80\n",
            "Digite seu peso: kg 96\n",
            "Digite seu peso: kg 75\n",
            "Digite seu peso: kg 85\n",
            "Digite seu peso: kg 67\n",
            "Digite seu peso: kg 59\n",
            "Elevador liberado. Valor mínimo: 0,5 T. Valor da carga:  0.462 T\n"
          ]
        }
      ]
    },
    {
      "cell_type": "markdown",
      "source": [
        "QUESTÃO 29\n",
        "\n",
        "Desenvolver um programa em Python para calcular a conta de água para a CAGEPA. O custo da água varia dependendo se o consumidor é residencial, comercial ou industrial. A regra para calcular a conta é:\n",
        "\n",
        "– Residencial: R$50,00 de taxa mais R$0,05 por m³ gastos;\n",
        "– Comercial: R$500,00 para os primeiros 80 m³ gastos mais R$0,25 por m³ gastos acima dos 80 m³;\n",
        "– Industrial: R$800,00 para os primeiros 100 m³ gastos mais R$0,04 por m³ gastos acima dos 100 m³;\n",
        "\n",
        "O programa deverá ler o número da conta do cliente, consumo de água por metros cúbicos e o tipo de consumidor (residencial, comercial e industrial). Como resultado, imprima o número da conta do cliente e o valor real a ser pago pelo mesmo.\n"
      ],
      "metadata": {
        "id": "5uEBY639zBEw"
      }
    },
    {
      "cell_type": "code",
      "source": [
        "numC = float(input(\"Número da conta do cliente: \"))\n",
        "consumo = float(input(\"Consumo de água / m3: \"))\n",
        "tipoConsumidor = str(input(\"Tipo de consumidor: \"))\n",
        "consumoR = \n",
        "if "
      ],
      "metadata": {
        "id": "rPWfimSkzBuB"
      },
      "execution_count": null,
      "outputs": []
    },
    {
      "cell_type": "markdown",
      "source": [
        "QUESTÃO 30\n",
        "\n",
        "Fazer um programa em Python para determinar o quadrante ao qual pertence um determinado ponto P(x, y).\n"
      ],
      "metadata": {
        "id": "YFjp1Hedvj9B"
      }
    },
    {
      "cell_type": "code",
      "source": [
        "x = float(input('Digite o valor de X: '))\n",
        "y = float(input('Digite o valor de y: '))\n",
        "\n",
        "if 0 == x:\n",
        "  print('P pertence ao eixo Y.')\n",
        "else:\n",
        "  0 == y\n",
        "  print('P pertence ao eixo X.')\n",
        "\n",
        "if 0 < x and y > 0:\n",
        "  print('P pertence ao 1° quadrante.')\n",
        "elif 0 > x and y > 0:\n",
        "  print('P pertence ao 2° quadrante.')\n",
        "elif 0 >x and 0 > y:\n",
        "  print('P pertence ao 3° quadrante.')\n",
        "elif 0 < x and y < 0:\n",
        "  print('P pertence ao 4° quadrante.')"
      ],
      "metadata": {
        "colab": {
          "base_uri": "https://localhost:8080/"
        },
        "id": "jFbhlcyBtkZ_",
        "outputId": "01f02bf8-1afe-4fa1-d3d4-68253e9efac5"
      },
      "execution_count": 5,
      "outputs": [
        {
          "output_type": "stream",
          "name": "stdout",
          "text": [
            "Digite o valor de X: -5\n",
            "Digite o valor de y: 3\n",
            "P pertence ao eixo X.\n",
            "P pertence ao 2° quadrante.\n"
          ]
        }
      ]
    }
  ]
}